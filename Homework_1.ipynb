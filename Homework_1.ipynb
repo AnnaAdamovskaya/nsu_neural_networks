{
  "nbformat": 4,
  "nbformat_minor": 0,
  "metadata": {
    "colab": {
      "provenance": []
    },
    "kernelspec": {
      "name": "python3",
      "display_name": "Python 3"
    },
    "language_info": {
      "name": "python"
    }
  },
  "cells": [
    {
      "cell_type": "markdown",
      "source": [
        "### **Task1**"
      ],
      "metadata": {
        "id": "fsICxVXDgZRg"
      }
    },
    {
      "cell_type": "markdown",
      "source": [
        "1)Вспомнить всё: if"
      ],
      "metadata": {
        "id": "ZFjtISzjglDc"
      }
    },
    {
      "cell_type": "code",
      "source": [
        "#t - temperature in degrees Celsius\n",
        "\n",
        "t = float(input(\"Введите температуру в градусах Цельсия: \"))\n",
        "if t < 15.5:\n",
        "        print(\"ХОЛОДНО\")\n",
        "elif t > 28:\n",
        "        print(\"ЖАРКО\")\n",
        "else:\n",
        "        print(\"НОРМАЛЬНО\")"
      ],
      "metadata": {
        "colab": {
          "base_uri": "https://localhost:8080/"
        },
        "id": "gYXRajsYhSe2",
        "outputId": "5f3c4b20-fb25-48e3-df79-1efb064375de"
      },
      "execution_count": 9,
      "outputs": [
        {
          "output_type": "stream",
          "name": "stdout",
          "text": [
            "Введите температуру в градусах Цельсия: 46\n",
            "ЖАРКО\n"
          ]
        }
      ]
    },
    {
      "cell_type": "markdown",
      "source": [
        "2)Найди кота"
      ],
      "metadata": {
        "id": "sngNmIPYo2H4"
      }
    },
    {
      "cell_type": "code",
      "source": [
        "num = int(input(\"Количетсво строк: \"))\n",
        "y = 0\n",
        "for i in range(num):\n",
        "  x = input(\"Введи строку: \")\n",
        "  if (\"Кот\" in x) or (\"кот\" in x):\n",
        "    y += 1\n",
        "  else:\n",
        "    y += 0\n",
        "if y > 0:\n",
        "  print(\"МЯУ\")\n",
        "else:\n",
        "  print(\"НЕТ\")\n",
        "\n"
      ],
      "metadata": {
        "colab": {
          "base_uri": "https://localhost:8080/"
        },
        "id": "bZuILeA8o5aA",
        "outputId": "f228d646-c7af-49c0-8c43-5c566aa4b301"
      },
      "execution_count": 30,
      "outputs": [
        {
          "output_type": "stream",
          "name": "stdout",
          "text": [
            "Количетсво строк: 3\n",
            "Введи строку: котовасия\n",
            "Введи строку: жара\n",
            "Введи строку: кошка\n",
            "МЯУ\n"
          ]
        }
      ]
    },
    {
      "cell_type": "markdown",
      "source": [
        "3)Слова и буквы\n"
      ],
      "metadata": {
        "id": "dkDLroHKslGg"
      }
    },
    {
      "cell_type": "code",
      "source": [
        "word = \"\"\n",
        "count_elem = 0\n",
        "list_words = []\n",
        "list_lenght = []\n",
        "while word != \"стоп\":\n",
        "  word = input()\n",
        "  list_words.append(word)\n",
        "list_words.remove(\"стоп\")\n",
        "for word in list_words:\n",
        "  list_lenght.append(len(word))\n",
        "index_max = list_lenght.index(max(list_lenght))\n",
        "index_min = list_lenght.index(min(list_lenght))\n",
        "for word in list_words[index_min]:\n",
        "  for i in range(0, len(word)):\n",
        "    if word[i] in list_words[index_max]:\n",
        "      count_elem += 1\n",
        "    else:\n",
        "      count_elem += 0\n",
        "if count_elem == len(list_words[index_min]):\n",
        "  print(\"ДА\")\n",
        "else:\n",
        "  print(\"НЕТ\")"
      ],
      "metadata": {
        "id": "xHfscdhCsoiI",
        "colab": {
          "base_uri": "https://localhost:8080/"
        },
        "outputId": "4ead6c11-848d-43dd-d4db-4dafbffb8577"
      },
      "execution_count": 22,
      "outputs": [
        {
          "output_type": "stream",
          "name": "stdout",
          "text": [
            "ира\n",
            "ириска\n",
            "котик\n",
            "стоп\n",
            "ДА\n"
          ]
        }
      ]
    },
    {
      "cell_type": "markdown",
      "source": [
        "4)Список покупок"
      ],
      "metadata": {
        "id": "5xoT4deaFRNp"
      }
    },
    {
      "cell_type": "code",
      "source": [
        "num_shop = int(input(\"Введите количество покупок: \"))\n",
        "list_shop = []\n",
        "for i in range(num_shop):\n",
        "  shop = input(\"Введите покупку: \")\n",
        "  list_shop.append(shop)\n",
        "for elem in list_shop:\n",
        "  print(elem)"
      ],
      "metadata": {
        "colab": {
          "base_uri": "https://localhost:8080/"
        },
        "id": "YOtgOYOnFTqm",
        "outputId": "8a4c6da6-925e-4502-b8f4-5db6e1a9decf"
      },
      "execution_count": 23,
      "outputs": [
        {
          "output_type": "stream",
          "name": "stdout",
          "text": [
            "Введите количество покупок: 2\n",
            "Введите покупку: хлеб\n",
            "Введите покупку: колбаса\n",
            "хлеб\n",
            "колбаса\n"
          ]
        }
      ]
    },
    {
      "cell_type": "markdown",
      "source": [
        "Ххооллоодд"
      ],
      "metadata": {
        "id": "689vguOxG5Ft"
      }
    },
    {
      "cell_type": "code",
      "source": [
        "t = input(\"Введите слово: \")\n",
        "for i in t:\n",
        "  print(i * 2, end = \"\")"
      ],
      "metadata": {
        "colab": {
          "base_uri": "https://localhost:8080/"
        },
        "id": "_Q-6tdSNG7nU",
        "outputId": "1c26891d-d065-45a7-c724-504bb5b9b719"
      },
      "execution_count": 24,
      "outputs": [
        {
          "output_type": "stream",
          "name": "stdout",
          "text": [
            "Введите слово: мороз\n",
            "ммоорроозз"
          ]
        }
      ]
    },
    {
      "cell_type": "markdown",
      "source": [
        "Формальное приветствие"
      ],
      "metadata": {
        "id": "tNmq23C3VHTd"
      }
    },
    {
      "cell_type": "code",
      "source": [
        "def greet():\n",
        "  name = input(\"What is your name?\")\n",
        "  surname = input(\"What is your surname?\")\n",
        "  print(f\"Здравствуйте, {name} {surname}.\")\n",
        "\n",
        "greet()"
      ],
      "metadata": {
        "colab": {
          "base_uri": "https://localhost:8080/"
        },
        "id": "wRuTnl75VKRR",
        "outputId": "c4dbd358-0a9e-4e98-f2ed-96f648ce9ab8"
      },
      "execution_count": 25,
      "outputs": [
        {
          "output_type": "stream",
          "name": "stdout",
          "text": [
            "What is your name?Анна\n",
            "What is your surname?Адамовская\n",
            "Здравствуйте, Анна Адамовская.\n"
          ]
        }
      ]
    },
    {
      "cell_type": "markdown",
      "source": [
        "Маленький колокольчик"
      ],
      "metadata": {
        "id": "09V_HyoHb0V7"
      }
    },
    {
      "cell_type": "code",
      "source": [
        "class LittleBell(object):\n",
        "\n",
        "  def sound():\n",
        "    print(\"ding\")\n",
        "\n",
        "bell = LittleBell\n",
        "bell.sound()\n"
      ],
      "metadata": {
        "colab": {
          "base_uri": "https://localhost:8080/"
        },
        "id": "yqnwQp84b3gd",
        "outputId": "cc50adbd-caee-45a1-a6e6-92b7fe5f9a8c"
      },
      "execution_count": 29,
      "outputs": [
        {
          "output_type": "stream",
          "name": "stdout",
          "text": [
            "ding\n"
          ]
        }
      ]
    },
    {
      "cell_type": "markdown",
      "source": [
        "Остаточные знания"
      ],
      "metadata": {
        "id": "yUs5O465b4WJ"
      }
    },
    {
      "cell_type": "markdown",
      "source": [
        "Пару лет назад я проходила курс на Stepik \"Поколение Python: курс для начинающих\". Также 2 года назад, на 4 курсе бакалавриата ФЕН я пошла на кафедру биоинформатики. В осеннем семестре у нас был курс по питону, там мы галопом по Европам прошлись по основным темам.\n",
        "Пожалуй, у меня возникают трудности с написанием емкого и лаконичного кода, пишу его более примитивно, но мне так легче.\n",
        "Помню самую базу, остальное приходится гуглить."
      ],
      "metadata": {
        "id": "nB7eVpMrb6Tk"
      }
    }
  ]
}